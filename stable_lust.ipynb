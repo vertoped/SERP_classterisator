{
 "cells": [
  {
   "cell_type": "code",
   "execution_count": 9,
   "id": "98ba84a8-a190-4804-aa66-27bcf6ad1c72",
   "metadata": {},
   "outputs": [],
   "source": [
    "import pandas as pd"
   ]
  },
  {
   "cell_type": "code",
   "execution_count": 10,
   "id": "2c3bfbc7-6631-45a1-8813-f0f03f4c34b3",
   "metadata": {},
   "outputs": [],
   "source": [
    "df = pd.read_csv(\"Cluster.csv\")"
   ]
  },
  {
   "cell_type": "code",
   "execution_count": 11,
   "id": "dbc14622-8657-45d0-8475-e26eaaa25d6d",
   "metadata": {},
   "outputs": [],
   "source": [
    "df=df[df['# G'].isin([1.0,2.0,3.0])].astype(str)"
   ]
  },
  {
   "cell_type": "code",
   "execution_count": 12,
   "id": "7c7f98cb-8a22-481c-95e2-70d1a02632dc",
   "metadata": {},
   "outputs": [],
   "source": [
    "df=df.reset_index()"
   ]
  },
  {
   "cell_type": "code",
   "execution_count": 13,
   "id": "65c1acd4-1986-4ae4-a195-786f80ddc1ab",
   "metadata": {
    "tags": []
   },
   "outputs": [],
   "source": [
    "df=df.iloc[: , 1:]"
   ]
  },
  {
   "cell_type": "code",
   "execution_count": 16,
   "id": "e368422b-eedb-4b42-b951-da13056ab3da",
   "metadata": {},
   "outputs": [],
   "source": [
    "df=df.rename(columns={\"Vol\": \"Serch Vol\", \"Фраза\": \"Keyword\"})\n",
    "df = df.replace('‒','0')\n",
    "df = df.replace(0,'0')\n",
    "df = df.replace('н/д','0')\n",
    "df['Serch Vol'] = df['Serch Vol'].astype(str)"
   ]
  },
  {
   "cell_type": "code",
   "execution_count": 17,
   "id": "38a5b923-3c65-4202-9f30-57e79ba6e9ce",
   "metadata": {},
   "outputs": [],
   "source": [
    "gk=df.reset_index()\n",
    "\n",
    "cp = gk.sort_values(['Keyword','URL [Google]','Serch Vol'])\n",
    "cp=cp.iloc[: , 1:]\n",
    "cp['keyvol'] = cp['Keyword'].str.cat(df[['Serch Vol']], sep=',')\n",
    "cp = cp.drop(columns=['Keyword','Serch Vol','# G'])\n",
    "cp=cp.reset_index()\n",
    "cp=cp.iloc[: , 1:]\n",
    "cp.to_csv('bep.csv')"
   ]
  },
  {
   "cell_type": "code",
   "execution_count": 18,
   "id": "6571ab8b-3976-43ab-a2a9-ef8e6078c99c",
   "metadata": {},
   "outputs": [],
   "source": [
    "gp = cp.groupby(['keyvol'])\n",
    "\n",
    "gp = gp.sum().reset_index()[['keyvol','URL [Google]']]\n",
    "cp=gp.groupby('URL [Google]').agg(tuple)\n",
    "cp.to_csv('gout.csv')"
   ]
  },
  {
   "cell_type": "code",
   "execution_count": 21,
   "id": "5a722a3e-d569-46af-abc1-2047ae223734",
   "metadata": {},
   "outputs": [],
   "source": [
    "list1 = cp.values.tolist()\n",
    "d=[]\n",
    "\n",
    "for a in list1:\n",
    "    b = pd.DataFrame(a).transpose()\n",
    "    b.columns=['keyvol']\n",
    "    b[['Keyword','Vol']] = b.keyvol.str.split(\",\",expand=True)\n",
    "    b=b.drop(columns=['keyvol'])\n",
    "    b['Vol'] = b['Vol'].astype(float)\n",
    "    # print(b)\n",
    "    b['claster_dump']=b[b['Vol']==max(b['Vol'])]['Keyword'].values[0]\n",
    "    b['keynum']=b.index\n",
    "    # print(b)\n",
    "    b['keynum']=(b[b['keynum']==max(b['keynum'])]['keynum']+1).values[0]\n",
    "    b['classsum']=b['Vol'].sum()\n",
    "    d.append(b)\n",
    "df = pd.concat(d)\n",
    "df=df.reset_index().drop(columns=['index'])\n",
    "df.to_csv('classes.csv')"
   ]
  },
  {
   "cell_type": "code",
   "execution_count": null,
   "id": "3bfead63-6139-4736-999b-077bc53fe8ca",
   "metadata": {},
   "outputs": [],
   "source": []
  }
 ],
 "metadata": {
  "kernelspec": {
   "display_name": "Python 3 (ipykernel)",
   "language": "python",
   "name": "python3"
  },
  "language_info": {
   "codemirror_mode": {
    "name": "ipython",
    "version": 3
   },
   "file_extension": ".py",
   "mimetype": "text/x-python",
   "name": "python",
   "nbconvert_exporter": "python",
   "pygments_lexer": "ipython3",
   "version": "3.9.12"
  }
 },
 "nbformat": 4,
 "nbformat_minor": 5
}
